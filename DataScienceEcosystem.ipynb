{
 "cells": [
  {
   "cell_type": "markdown",
   "id": "328be541-2bf9-4188-9921-de533b4e5f0e",
   "metadata": {
    "tags": []
   },
   "source": [
    "# Data Science Tools and Ecosystem\n"
   ]
  },
  {
   "cell_type": "markdown",
   "id": "ede985f1-8d78-4876-953b-c802461763ac",
   "metadata": {
    "tags": []
   },
   "source": [
    "# In this notebook, Data Science Tools and Ecosystem are summarized."
   ]
  },
  {
   "cell_type": "markdown",
   "id": "08fe1a45-cf7a-47cc-8222-2f9753d4c5e0",
   "metadata": {},
   "source": [
    "** Objectives:**\n",
    "- Introduce common languages used in Data Science.\n",
    "- Create Markdown cells in Jupyter Notebook.\n",
    "- List commonly used Data Science libraries.\n",
    "- Demonstrate arithmetic expressions in Python.\n",
    "- Explore code cells for performing calculations."
   ]
  },
  {
   "cell_type": "markdown",
   "id": "fdc9664a-a52a-444a-8bd9-8e54c5abe20f",
   "metadata": {},
   "source": [
    "# Some of the popular languages that Data Scientists use are:"
   ]
  },
  {
   "cell_type": "markdown",
   "id": "a0dea677-f90a-403d-9a05-6ada776a38af",
   "metadata": {
    "tags": []
   },
   "source": [
    "1.Python\n",
    "2.R\n",
    "3.Java\n"
   ]
  },
  {
   "cell_type": "markdown",
   "id": "521486a5-a124-4e1c-a3a0-7a4d85cf074d",
   "metadata": {},
   "source": [
    "# Some of the commonly used libraries used by Data Scientists include:"
   ]
  },
  {
   "cell_type": "markdown",
   "id": "169bf75d-c620-4d8f-8821-021419c073c8",
   "metadata": {},
   "source": [
    "1.NumPy\n",
    "2.Pandas\n",
    "3.scikit-learn\n",
    "4.TensorFlow\n",
    "5.Matplotlib"
   ]
  },
  {
   "cell_type": "markdown",
   "id": "1bc35bab-cb68-4f05-aadf-381e032e7cc9",
   "metadata": {},
   "source": [
    "| Data Science Tools  |\n",
    "|---------------------|\n",
    "|Jupyter Notebook     |\n",
    "|R Studious           |\n",
    "|VsCode with Python   |"
   ]
  },
  {
   "cell_type": "markdown",
   "id": "390ef7c9-18e5-4f21-90f9-910e86677f65",
   "metadata": {},
   "source": [
    "### Arithmetic Expression Examples in Python\n",
    "\n",
    "Below are a few examples of evaluating arithmetic expressions in Python:"
   ]
  },
  {
   "cell_type": "code",
   "execution_count": 5,
   "id": "f65980bc-3834-4523-8cbd-28ca1b1cca79",
   "metadata": {
    "tags": []
   },
   "outputs": [
    {
     "data": {
      "text/plain": [
       "17"
      ]
     },
     "execution_count": 5,
     "metadata": {},
     "output_type": "execute_result"
    }
   ],
   "source": [
    "# This is a simple arithmetic expression to multiply then add integers.\n",
    "result = (3 * 4) + 5\n",
    "result\n"
   ]
  },
  {
   "cell_type": "code",
   "execution_count": 6,
   "id": "7a311e40-cdd5-4e67-8846-04f6dbb4ca57",
   "metadata": {
    "tags": []
   },
   "outputs": [
    {
     "data": {
      "text/plain": [
       "3.3333333333333335"
      ]
     },
     "execution_count": 6,
     "metadata": {},
     "output_type": "execute_result"
    }
   ],
   "source": [
    "# This will convert 200 minutes to hours by diving by 60\n",
    "\n",
    "hours = 200/60\n",
    "hours"
   ]
  },
  {
   "cell_type": "markdown",
   "id": "fc9cbd19-2ae1-4529-885f-3c5958b82c17",
   "metadata": {},
   "source": [
    "## Author\n",
    "Lakshmi Holla"
   ]
  },
  {
   "cell_type": "code",
   "execution_count": null,
   "id": "32ed85d3-6c79-4b83-b9b7-8259ff137900",
   "metadata": {},
   "outputs": [],
   "source": []
  }
 ],
 "metadata": {
  "kernelspec": {
   "display_name": "Python",
   "language": "python",
   "name": "conda-env-python-py"
  },
  "language_info": {
   "codemirror_mode": {
    "name": "ipython",
    "version": 3
   },
   "file_extension": ".py",
   "mimetype": "text/x-python",
   "name": "python",
   "nbconvert_exporter": "python",
   "pygments_lexer": "ipython3",
   "version": "3.7.12"
  }
 },
 "nbformat": 4,
 "nbformat_minor": 5
}
